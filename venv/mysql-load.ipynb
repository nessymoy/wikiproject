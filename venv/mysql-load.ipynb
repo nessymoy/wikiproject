{
 "cells": [
  {
   "cell_type": "code",
   "execution_count": 117,
   "metadata": {},
   "outputs": [],
   "source": [
    "import pandas as pd\n",
    "import pymysql\n",
    "from sqlalchemy import create_engine"
   ]
  },
  {
   "cell_type": "code",
   "execution_count": 118,
   "metadata": {},
   "outputs": [],
   "source": [
    "df = pd.read_csv('universities-clean.csv')"
   ]
  },
  {
   "cell_type": "code",
   "execution_count": 119,
   "metadata": {},
   "outputs": [
    {
     "data": {
      "text/html": [
       "<div>\n",
       "<style scoped>\n",
       "    .dataframe tbody tr th:only-of-type {\n",
       "        vertical-align: middle;\n",
       "    }\n",
       "\n",
       "    .dataframe tbody tr th {\n",
       "        vertical-align: top;\n",
       "    }\n",
       "\n",
       "    .dataframe thead th {\n",
       "        text-align: right;\n",
       "    }\n",
       "</style>\n",
       "<table border=\"1\" class=\"dataframe\">\n",
       "  <thead>\n",
       "    <tr style=\"text-align: right;\">\n",
       "      <th></th>\n",
       "      <th>Country</th>\n",
       "      <th>University</th>\n",
       "      <th>Founded</th>\n",
       "      <th>Type</th>\n",
       "      <th>Enrollment</th>\n",
       "      <th>link</th>\n",
       "    </tr>\n",
       "  </thead>\n",
       "  <tbody>\n",
       "    <tr>\n",
       "      <th>0</th>\n",
       "      <td>Albania</td>\n",
       "      <td>University of Tirana</td>\n",
       "      <td>1957</td>\n",
       "      <td>Public</td>\n",
       "      <td>35000</td>\n",
       "      <td>https://en.wikipedia.org/wiki/Albania</td>\n",
       "    </tr>\n",
       "    <tr>\n",
       "      <th>1</th>\n",
       "      <td>Algeria</td>\n",
       "      <td>Constantine University</td>\n",
       "      <td>1978</td>\n",
       "      <td>Public</td>\n",
       "      <td>85000</td>\n",
       "      <td>https://en.wikipedia.org/wiki/Algeria</td>\n",
       "    </tr>\n",
       "    <tr>\n",
       "      <th>2</th>\n",
       "      <td>Angola</td>\n",
       "      <td>Agostinho Neto University</td>\n",
       "      <td>1962</td>\n",
       "      <td>Public</td>\n",
       "      <td>29827</td>\n",
       "      <td>https://en.wikipedia.org/wiki/Angola</td>\n",
       "    </tr>\n",
       "    <tr>\n",
       "      <th>3</th>\n",
       "      <td>Argentina</td>\n",
       "      <td>University of Buenos Aires</td>\n",
       "      <td>1821</td>\n",
       "      <td>Public</td>\n",
       "      <td>311175</td>\n",
       "      <td>https://en.wikipedia.org/wiki/Argentina</td>\n",
       "    </tr>\n",
       "    <tr>\n",
       "      <th>4</th>\n",
       "      <td>Australia</td>\n",
       "      <td>Monash University</td>\n",
       "      <td>1958</td>\n",
       "      <td>Public</td>\n",
       "      <td>73807</td>\n",
       "      <td>https://en.wikipedia.org/wiki/Australia</td>\n",
       "    </tr>\n",
       "  </tbody>\n",
       "</table>\n",
       "</div>"
      ],
      "text/plain": [
       "     Country                  University  Founded    Type  Enrollment  \\\n",
       "0    Albania        University of Tirana     1957  Public       35000   \n",
       "1    Algeria      Constantine University     1978  Public       85000   \n",
       "2     Angola   Agostinho Neto University     1962  Public       29827   \n",
       "3  Argentina  University of Buenos Aires     1821  Public      311175   \n",
       "4  Australia           Monash University     1958  Public       73807   \n",
       "\n",
       "                                      link  \n",
       "0    https://en.wikipedia.org/wiki/Albania  \n",
       "1    https://en.wikipedia.org/wiki/Algeria  \n",
       "2     https://en.wikipedia.org/wiki/Angola  \n",
       "3  https://en.wikipedia.org/wiki/Argentina  \n",
       "4  https://en.wikipedia.org/wiki/Australia  "
      ]
     },
     "execution_count": 119,
     "metadata": {},
     "output_type": "execute_result"
    }
   ],
   "source": [
    "df.head()"
   ]
  },
  {
   "cell_type": "code",
   "execution_count": 120,
   "metadata": {},
   "outputs": [],
   "source": [
    "conn = pymysql.Connect(\n",
    "    host = 'localhost',\n",
    "    port = 3307,\n",
    "    password = 'amdariuserpassword',\n",
    "    user = 'amdariuser',\n",
    "    database = 'amdaridb'\n",
    ")"
   ]
  },
  {
   "cell_type": "code",
   "execution_count": 121,
   "metadata": {},
   "outputs": [],
   "source": [
    "cursor = conn.cursor()"
   ]
  },
  {
   "cell_type": "code",
   "execution_count": 122,
   "metadata": {},
   "outputs": [
    {
     "data": {
      "text/plain": [
       "1"
      ]
     },
     "execution_count": 122,
     "metadata": {},
     "output_type": "execute_result"
    }
   ],
   "source": [
    "cursor.execute('SHOW TABLES;')"
   ]
  },
  {
   "cell_type": "code",
   "execution_count": 123,
   "metadata": {},
   "outputs": [
    {
     "data": {
      "text/plain": [
       "(('university',),)"
      ]
     },
     "execution_count": 123,
     "metadata": {},
     "output_type": "execute_result"
    }
   ],
   "source": [
    "cursor.fetchall()"
   ]
  },
  {
   "cell_type": "code",
   "execution_count": 124,
   "metadata": {},
   "outputs": [
    {
     "data": {
      "text/plain": [
       "'CREATE TABLE university (\\n    id BIGINT AUTO_INCREMENT NOT NULL,\\n    country VARCHAR(255) NOT NULL,\\n    name VARCHAR(255) NOT NULL,\\n    founded INT NOT NULL,\\n    type VARCHAR(255) NOT NULL,\\n    enrollment BIGINT NOT NULL,\\n    link VARCHAR(255) NOT NULL,\\n\\n    UNIQUE KEY unique_combination (country, name),\\n    PRIMARY KEY (id)\\n);\\n\\n\\n'"
      ]
     },
     "execution_count": 124,
     "metadata": {},
     "output_type": "execute_result"
    }
   ],
   "source": [
    "create_query_file = open('../sql/mysql_create_table.sql')\n",
    "create_query = create_query_file.read()\n",
    "create_query\n"
   ]
  },
  {
   "cell_type": "code",
   "execution_count": null,
   "metadata": {},
   "outputs": [],
   "source": [
    "cursor.execute(create_query)"
   ]
  },
  {
   "cell_type": "code",
   "execution_count": null,
   "metadata": {},
   "outputs": [
    {
     "name": "stdout",
     "output_type": "stream",
     "text": [
      "[('Albania', 'University of Tirana', 1957, 'Public', 35000, 'https://en.wikipedia.org/wiki/Albania'), ('Algeria', 'Constantine University', 1978, 'Public', 85000, 'https://en.wikipedia.org/wiki/Algeria'), ('Angola', 'Agostinho Neto University', 1962, 'Public', 29827, 'https://en.wikipedia.org/wiki/Angola'), ('Argentina', 'University of Buenos Aires', 1821, 'Public', 311175, 'https://en.wikipedia.org/wiki/Argentina'), ('Australia', 'Monash University', 1958, 'Public', 73807, 'https://en.wikipedia.org/wiki/Australia'), ('Austria', 'University of Vienna', 1365, 'Public', 91000, 'https://en.wikipedia.org/wiki/Austria'), ('Bangladesh', 'National University, Bangladesh', 1992, 'Public', 2097182, 'https://en.wikipedia.org/wiki/Bangladesh'), ('Belarus', 'Belarusian State University', 1921, 'Public', 25500, 'https://en.wikipedia.org/wiki/Belarus'), ('Belgium', 'KU Leuven', 1425, 'Private, state-funded', 55484, 'https://en.wikipedia.org/wiki/Belgium'), ('Bosnia and Herzegovina', 'University of Sarajevo', 1949, 'Public', 30866, 'https://en.wikipedia.org/wiki/Bosnia_and_Herzegovina'), ('Botswana', 'University of Botswana', 1982, 'Public', 32000, 'https://en.wikipedia.org/wiki/Botswana'), ('Brazil', 'EstÃ¡cio de SÃ¡ University', 1970, 'Private', 215000, 'https://en.wikipedia.org/wiki/Brazil'), ('Bulgaria', 'Sofia University', 1888, 'Public', 18911, 'https://en.wikipedia.org/wiki/Bulgaria'), ('Canada', 'University of Toronto', 1827, 'Public', 84000, 'https://en.wikipedia.org/wiki/Canada'), ('China', 'Shanghai Open University', 1960, 'Public', 80000, 'https://en.wikipedia.org/wiki/China'), ('Colombia', 'National University of Colombia', 1867, 'Public', 53581, 'https://en.wikipedia.org/wiki/Colombia'), ('Costa Rica', 'Universidad de Costa Rica', 1940, 'Public', 42750, 'https://en.wikipedia.org/wiki/Costa_Rica'), ('Croatia', 'University of Zagreb', 1669, 'Public', 72480, 'https://en.wikipedia.org/wiki/File:Flag_of_Croatia_at_the_UN.svg'), ('Denmark', 'Aarhus University', 1928, 'Public', 43600, 'https://en.wikipedia.org/wiki/Denmark'), ('Dominican Republic', 'Universidad AutÃ³noma de Santo Domingo', 1538, 'Public', 170530, 'https://en.wikipedia.org/wiki/Dominican_Republic'), ('Egypt', 'Ain Shams University', 1950, 'Public', 170000, 'https://en.wikipedia.org/wiki/Egypt'), ('Finland', 'University of Helsinki', 1640, 'Public', 36500, 'https://en.wikipedia.org/wiki/Finland'), ('France', \"Centre national d'enseignement Ã\\xa0 distance\", 1939, 'Public', 350000, 'https://en.wikipedia.org/wiki/France'), ('Germany', 'IU International University of Applied Sciences', 1998, 'Private', 130000, 'https://en.wikipedia.org/wiki/Germany'), ('Greece', 'National and Kapodistrian University of Athens', 1837, 'Public', 104000, 'https://en.wikipedia.org/wiki/Greece'), ('Guatemala', 'Universidad de San Carlos de Guatemala', 1676, 'Public', 124000, 'https://en.wikipedia.org/wiki/Guatemala'), ('Hong Kong', 'Hong Kong Polytechnic University', 1937, 'Public', 32000, 'https://en.wikipedia.org/wiki/Hong_Kong'), ('Iceland', 'University of Iceland', 1911, 'Public', 13782, 'https://en.wikipedia.org/wiki/Iceland'), ('India', 'Indira Gandhi National Open University', 1985, 'Public', 7140000, 'https://en.wikipedia.org/wiki/India'), ('Indonesia', 'Universitas Terbuka', 1984, 'Public', 1045665, 'https://en.wikipedia.org/wiki/Indonesia'), ('Iran', 'Islamic Azad University', 1982, 'Semi-private', 1000000, 'https://en.wikipedia.org/wiki/Iran'), ('Ireland', 'University College Dublin', 1834, 'Public (formerly private)', 32900, 'https://en.wikipedia.org/wiki/Republic_of_Ireland'), ('Israel', 'Tel Aviv University', 1956, 'Public', 26023, 'https://en.wikipedia.org/wiki/Israel'), ('Italy', 'Sapienza University of Rome', 1303, 'Public', 112564, 'https://en.wikipedia.org/wiki/Italy'), ('Japan', 'Nihon University', 1889, 'Private', 70667, 'https://en.wikipedia.org/wiki/Japan'), ('Kenya', 'University of Nairobi', 1970, 'Public', 84000, 'https://en.wikipedia.org/wiki/Kenya'), ('Kosovo', 'Universiteti i PrishtinÃ«s', 1999, 'Public', 41833, 'https://en.wikipedia.org/wiki/Kosovo'), ('Lithuania', 'Vilnius University', 1579, 'Public', 23606, 'https://en.wikipedia.org/wiki/Lithuania'), ('Macau', 'Macau University of Science and Technology', 2000, 'Private', 10373, 'https://en.wikipedia.org/wiki/Macau'), ('Malaysia', 'Universiti Teknologi MARA', 1956, 'Public', 100000, 'https://en.wikipedia.org/wiki/Malaysia'), ('Mexico', 'National Autonomous University of Mexico', 1551, 'Public', 349515, 'https://en.wikipedia.org/wiki/Mexico'), ('Nepal', 'Tribhuvan University', 1959, 'Public', 604437, 'https://en.wikipedia.org/wiki/Nepal'), ('Netherlands', 'University of Amsterdam', 1632, 'Public', 31186, 'https://en.wikipedia.org/wiki/Netherlands'), ('New Zealand', 'University of Auckland', 1883, 'Public', 33050, 'https://en.wikipedia.org/wiki/New_Zealand'), ('North Macedonia', 'University of Skopje', 1943, 'Public', 50000, 'https://en.wikipedia.org/wiki/North_Macedonia'), ('Norway', 'Norwegian University of Science and Technology', 1996, 'Public', 39000, 'https://en.wikipedia.org/wiki/Norway'), ('Pakistan', 'Virtual University of Pakistan', 2002, 'Public', 165000, 'https://en.wikipedia.org/wiki/Pakistan'), ('Peru', 'National University of San Marcos', 1551, 'Private', 37032, 'https://en.wikipedia.org/wiki/Peru'), ('Philippines', 'Polytechnic University of the Philippines', 1904, 'Public', 68249, 'https://en.wikipedia.org/wiki/Philippines'), ('Poland', 'University of Warsaw', 1816, 'Public', 44400, 'https://en.wikipedia.org/wiki/Poland'), ('Portugal', 'University of Lisbon', 1288, 'Public', 48100, 'https://en.wikipedia.org/wiki/Portugal'), ('Romania', 'Spiru Haret University', 1991, 'Private', 311928, 'https://en.wikipedia.org/wiki/Romania'), ('Russia', 'Modern University for the Humanities', 1992, 'Private', 200000, 'https://en.wikipedia.org/wiki/Russia'), ('Saudi Arabia', 'King Abdulaziz University', 1976, 'Public', 177234, 'https://en.wikipedia.org/wiki/Saudi_Arabia'), ('Singapore', 'National University of Singapore', 1905, 'Public', 38300, 'https://en.wikipedia.org/wiki/Singapore'), ('Slovenia', 'University of Ljubljana', 1919, 'Public', 48821, 'https://en.wikipedia.org/wiki/Slovenia'), ('South Africa', 'University of South Africa', 1873, 'Public', 328179, 'https://en.wikipedia.org/wiki/South_Africa'), ('South Korea', 'Korea National Open University', 1972, 'Public', 173758, 'https://en.wikipedia.org/wiki/South_Korea'), ('Spain', 'National University of Distance Education', 1972, 'Public', 260079, 'https://en.wikipedia.org/wiki/Spain'), ('Sweden', 'Lund University', 1666, 'Public', 30646, 'https://en.wikipedia.org/wiki/Sweden'), ('Switzerland', 'University of Zurich', 1833, 'Public', 26356, 'https://en.wikipedia.org/wiki/Switzerland'), ('Taiwan', 'National Taiwan University', 1928, 'Public', 31758, 'https://en.wikipedia.org/wiki/Taiwan'), ('Thailand', 'Ramkhamhaeng University', 1971, 'Public', 525000, 'https://en.wikipedia.org/wiki/Thailand'), ('Trinidad and Tobago', 'University of the West Indies', 1960, 'Public', 60000, 'https://en.wikipedia.org/wiki/Trinidad_and_Tobago'), ('Turkey', 'Anadolu University', 1958, 'Public', 1969733, 'https://en.wikipedia.org/wiki/Turkey'), ('United Kingdom', 'Open University', 1969, 'Public', 253075, 'https://en.wikipedia.org/wiki/United_Kingdom'), ('United States', 'Texas A&M University', 1876, 'Public', 73284, 'https://en.wikipedia.org/wiki/United_States'), ('Uruguay', 'University of the Republic', 1949, 'Public', 144108, 'https://en.wikipedia.org/wiki/Uruguay'), ('Venezuela', 'Universidad Central de Venezuela', 1721, 'Public', 41059, 'https://en.wikipedia.org/wiki/Venezuela')]\n"
     ]
    }
   ],
   "source": [
    "data = list(df.itertuples(index=None, name=None))\n",
    "print(data)"
   ]
  },
  {
   "cell_type": "code",
   "execution_count": null,
   "metadata": {},
   "outputs": [],
   "source": [
    "engine = create_engine('mysql+pymysql://',creator=lambda:conn)"
   ]
  },
  {
   "cell_type": "code",
   "execution_count": null,
   "metadata": {},
   "outputs": [],
   "source": [
    "pd.read_sql(\"SELECT* FROM university;\",con=engine)"
   ]
  },
  {
   "cell_type": "code",
   "execution_count": null,
   "metadata": {},
   "outputs": [
    {
     "name": "stdout",
     "output_type": "stream",
     "text": [
      "INSERT INTO university (country, `name`, founded, `type`, enrollment, link)\n",
      "VALUES (%s, %s, %s, %s, %s, %s)\n",
      "ON DUPLICATE KEY UPDATE\n",
      "    founded = VALUES(founded),\n",
      "    `type` = VALUES(`type`),\n",
      "    enrollment = VALUES(enrollment),\n",
      "    link = VALUES(link);\n",
      "\n",
      "\n",
      "[('Albania', 'University of Tirana', 1957, 'Public', 35000, 'https://en.wikipedia.org/wiki/Albania'), ('Algeria', 'Constantine University', 1978, 'Public', 85000, 'https://en.wikipedia.org/wiki/Algeria'), ('Angola', 'Agostinho Neto University', 1962, 'Public', 29827, 'https://en.wikipedia.org/wiki/Angola'), ('Argentina', 'University of Buenos Aires', 1821, 'Public', 311175, 'https://en.wikipedia.org/wiki/Argentina'), ('Australia', 'Monash University', 1958, 'Public', 73807, 'https://en.wikipedia.org/wiki/Australia'), ('Austria', 'University of Vienna', 1365, 'Public', 91000, 'https://en.wikipedia.org/wiki/Austria'), ('Bangladesh', 'National University, Bangladesh', 1992, 'Public', 2097182, 'https://en.wikipedia.org/wiki/Bangladesh'), ('Belarus', 'Belarusian State University', 1921, 'Public', 25500, 'https://en.wikipedia.org/wiki/Belarus'), ('Belgium', 'KU Leuven', 1425, 'Private, state-funded', 55484, 'https://en.wikipedia.org/wiki/Belgium'), ('Bosnia and Herzegovina', 'University of Sarajevo', 1949, 'Public', 30866, 'https://en.wikipedia.org/wiki/Bosnia_and_Herzegovina'), ('Botswana', 'University of Botswana', 1982, 'Public', 32000, 'https://en.wikipedia.org/wiki/Botswana'), ('Brazil', 'EstÃ¡cio de SÃ¡ University', 1970, 'Private', 215000, 'https://en.wikipedia.org/wiki/Brazil'), ('Bulgaria', 'Sofia University', 1888, 'Public', 18911, 'https://en.wikipedia.org/wiki/Bulgaria'), ('Canada', 'University of Toronto', 1827, 'Public', 84000, 'https://en.wikipedia.org/wiki/Canada'), ('China', 'Shanghai Open University', 1960, 'Public', 80000, 'https://en.wikipedia.org/wiki/China'), ('Colombia', 'National University of Colombia', 1867, 'Public', 53581, 'https://en.wikipedia.org/wiki/Colombia'), ('Costa Rica', 'Universidad de Costa Rica', 1940, 'Public', 42750, 'https://en.wikipedia.org/wiki/Costa_Rica'), ('Croatia', 'University of Zagreb', 1669, 'Public', 72480, 'https://en.wikipedia.org/wiki/File:Flag_of_Croatia_at_the_UN.svg'), ('Denmark', 'Aarhus University', 1928, 'Public', 43600, 'https://en.wikipedia.org/wiki/Denmark'), ('Dominican Republic', 'Universidad AutÃ³noma de Santo Domingo', 1538, 'Public', 170530, 'https://en.wikipedia.org/wiki/Dominican_Republic'), ('Egypt', 'Ain Shams University', 1950, 'Public', 170000, 'https://en.wikipedia.org/wiki/Egypt'), ('Finland', 'University of Helsinki', 1640, 'Public', 36500, 'https://en.wikipedia.org/wiki/Finland'), ('France', \"Centre national d'enseignement Ã\\xa0 distance\", 1939, 'Public', 350000, 'https://en.wikipedia.org/wiki/France'), ('Germany', 'IU International University of Applied Sciences', 1998, 'Private', 130000, 'https://en.wikipedia.org/wiki/Germany'), ('Greece', 'National and Kapodistrian University of Athens', 1837, 'Public', 104000, 'https://en.wikipedia.org/wiki/Greece'), ('Guatemala', 'Universidad de San Carlos de Guatemala', 1676, 'Public', 124000, 'https://en.wikipedia.org/wiki/Guatemala'), ('Hong Kong', 'Hong Kong Polytechnic University', 1937, 'Public', 32000, 'https://en.wikipedia.org/wiki/Hong_Kong'), ('Iceland', 'University of Iceland', 1911, 'Public', 13782, 'https://en.wikipedia.org/wiki/Iceland'), ('India', 'Indira Gandhi National Open University', 1985, 'Public', 7140000, 'https://en.wikipedia.org/wiki/India'), ('Indonesia', 'Universitas Terbuka', 1984, 'Public', 1045665, 'https://en.wikipedia.org/wiki/Indonesia'), ('Iran', 'Islamic Azad University', 1982, 'Semi-private', 1000000, 'https://en.wikipedia.org/wiki/Iran'), ('Ireland', 'University College Dublin', 1834, 'Public (formerly private)', 32900, 'https://en.wikipedia.org/wiki/Republic_of_Ireland'), ('Israel', 'Tel Aviv University', 1956, 'Public', 26023, 'https://en.wikipedia.org/wiki/Israel'), ('Italy', 'Sapienza University of Rome', 1303, 'Public', 112564, 'https://en.wikipedia.org/wiki/Italy'), ('Japan', 'Nihon University', 1889, 'Private', 70667, 'https://en.wikipedia.org/wiki/Japan'), ('Kenya', 'University of Nairobi', 1970, 'Public', 84000, 'https://en.wikipedia.org/wiki/Kenya'), ('Kosovo', 'Universiteti i PrishtinÃ«s', 1999, 'Public', 41833, 'https://en.wikipedia.org/wiki/Kosovo'), ('Lithuania', 'Vilnius University', 1579, 'Public', 23606, 'https://en.wikipedia.org/wiki/Lithuania'), ('Macau', 'Macau University of Science and Technology', 2000, 'Private', 10373, 'https://en.wikipedia.org/wiki/Macau'), ('Malaysia', 'Universiti Teknologi MARA', 1956, 'Public', 100000, 'https://en.wikipedia.org/wiki/Malaysia'), ('Mexico', 'National Autonomous University of Mexico', 1551, 'Public', 349515, 'https://en.wikipedia.org/wiki/Mexico'), ('Nepal', 'Tribhuvan University', 1959, 'Public', 604437, 'https://en.wikipedia.org/wiki/Nepal'), ('Netherlands', 'University of Amsterdam', 1632, 'Public', 31186, 'https://en.wikipedia.org/wiki/Netherlands'), ('New Zealand', 'University of Auckland', 1883, 'Public', 33050, 'https://en.wikipedia.org/wiki/New_Zealand'), ('North Macedonia', 'University of Skopje', 1943, 'Public', 50000, 'https://en.wikipedia.org/wiki/North_Macedonia'), ('Norway', 'Norwegian University of Science and Technology', 1996, 'Public', 39000, 'https://en.wikipedia.org/wiki/Norway'), ('Pakistan', 'Virtual University of Pakistan', 2002, 'Public', 165000, 'https://en.wikipedia.org/wiki/Pakistan'), ('Peru', 'National University of San Marcos', 1551, 'Private', 37032, 'https://en.wikipedia.org/wiki/Peru'), ('Philippines', 'Polytechnic University of the Philippines', 1904, 'Public', 68249, 'https://en.wikipedia.org/wiki/Philippines'), ('Poland', 'University of Warsaw', 1816, 'Public', 44400, 'https://en.wikipedia.org/wiki/Poland'), ('Portugal', 'University of Lisbon', 1288, 'Public', 48100, 'https://en.wikipedia.org/wiki/Portugal'), ('Romania', 'Spiru Haret University', 1991, 'Private', 311928, 'https://en.wikipedia.org/wiki/Romania'), ('Russia', 'Modern University for the Humanities', 1992, 'Private', 200000, 'https://en.wikipedia.org/wiki/Russia'), ('Saudi Arabia', 'King Abdulaziz University', 1976, 'Public', 177234, 'https://en.wikipedia.org/wiki/Saudi_Arabia'), ('Singapore', 'National University of Singapore', 1905, 'Public', 38300, 'https://en.wikipedia.org/wiki/Singapore'), ('Slovenia', 'University of Ljubljana', 1919, 'Public', 48821, 'https://en.wikipedia.org/wiki/Slovenia'), ('South Africa', 'University of South Africa', 1873, 'Public', 328179, 'https://en.wikipedia.org/wiki/South_Africa'), ('South Korea', 'Korea National Open University', 1972, 'Public', 173758, 'https://en.wikipedia.org/wiki/South_Korea'), ('Spain', 'National University of Distance Education', 1972, 'Public', 260079, 'https://en.wikipedia.org/wiki/Spain'), ('Sweden', 'Lund University', 1666, 'Public', 30646, 'https://en.wikipedia.org/wiki/Sweden'), ('Switzerland', 'University of Zurich', 1833, 'Public', 26356, 'https://en.wikipedia.org/wiki/Switzerland'), ('Taiwan', 'National Taiwan University', 1928, 'Public', 31758, 'https://en.wikipedia.org/wiki/Taiwan'), ('Thailand', 'Ramkhamhaeng University', 1971, 'Public', 525000, 'https://en.wikipedia.org/wiki/Thailand'), ('Trinidad and Tobago', 'University of the West Indies', 1960, 'Public', 60000, 'https://en.wikipedia.org/wiki/Trinidad_and_Tobago'), ('Turkey', 'Anadolu University', 1958, 'Public', 1969733, 'https://en.wikipedia.org/wiki/Turkey'), ('United Kingdom', 'Open University', 1969, 'Public', 253075, 'https://en.wikipedia.org/wiki/United_Kingdom'), ('United States', 'Texas A&M University', 1876, 'Public', 73284, 'https://en.wikipedia.org/wiki/United_States'), ('Uruguay', 'University of the Republic', 1949, 'Public', 144108, 'https://en.wikipedia.org/wiki/Uruguay'), ('Venezuela', 'Universidad Central de Venezuela', 1721, 'Public', 41059, 'https://en.wikipedia.org/wiki/Venezuela')]\n"
     ]
    }
   ],
   "source": [
    "merge_query_file = open('../sql/mysql_upsert.sql')\n",
    "merge_query= merge_query_file.read()\n",
    "print(merge_query)\n",
    "print(data)"
   ]
  },
  {
   "cell_type": "code",
   "execution_count": null,
   "metadata": {},
   "outputs": [
    {
     "data": {
      "text/plain": [
       "69"
      ]
     },
     "execution_count": 275,
     "metadata": {},
     "output_type": "execute_result"
    }
   ],
   "source": [
    "cursor.executemany(merge_query, data)\n"
   ]
  },
  {
   "cell_type": "code",
   "execution_count": null,
   "metadata": {},
   "outputs": [
    {
     "data": {
      "text/plain": [
       "<bound method Connection.commit of <pymysql.connections.Connection object at 0x128c44e50>>"
      ]
     },
     "execution_count": 276,
     "metadata": {},
     "output_type": "execute_result"
    }
   ],
   "source": [
    "conn.commit"
   ]
  },
  {
   "cell_type": "code",
   "execution_count": null,
   "metadata": {},
   "outputs": [],
   "source": [
    "pd.read_sql(\"SELECT * FROM university;\",con=engine)"
   ]
  },
  {
   "cell_type": "code",
   "execution_count": null,
   "metadata": {},
   "outputs": [],
   "source": []
  },
  {
   "cell_type": "code",
   "execution_count": null,
   "metadata": {},
   "outputs": [],
   "source": []
  }
 ],
 "metadata": {
  "kernelspec": {
   "display_name": "Python 3",
   "language": "python",
   "name": "python3"
  },
  "language_info": {
   "codemirror_mode": {
    "name": "ipython",
    "version": 3
   },
   "file_extension": ".py",
   "mimetype": "text/x-python",
   "name": "python",
   "nbconvert_exporter": "python",
   "pygments_lexer": "ipython3",
   "version": "3.10.11"
  }
 },
 "nbformat": 4,
 "nbformat_minor": 2
}
