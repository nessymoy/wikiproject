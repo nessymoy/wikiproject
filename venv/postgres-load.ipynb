{
 "cells": [
  {
   "cell_type": "code",
   "execution_count": 138,
   "metadata": {},
   "outputs": [],
   "source": [
    "import pandas as pd\n",
    "from sqlalchemy import create_engine\n",
    "import psycopg2"
   ]
  },
  {
   "cell_type": "code",
   "execution_count": 139,
   "metadata": {},
   "outputs": [],
   "source": [
    "df = pd.read_csv('universities-clean.csv')\n"
   ]
  },
  {
   "cell_type": "code",
   "execution_count": 140,
   "metadata": {},
   "outputs": [
    {
     "data": {
      "text/html": [
       "<div>\n",
       "<style scoped>\n",
       "    .dataframe tbody tr th:only-of-type {\n",
       "        vertical-align: middle;\n",
       "    }\n",
       "\n",
       "    .dataframe tbody tr th {\n",
       "        vertical-align: top;\n",
       "    }\n",
       "\n",
       "    .dataframe thead th {\n",
       "        text-align: right;\n",
       "    }\n",
       "</style>\n",
       "<table border=\"1\" class=\"dataframe\">\n",
       "  <thead>\n",
       "    <tr style=\"text-align: right;\">\n",
       "      <th></th>\n",
       "      <th>Country</th>\n",
       "      <th>University</th>\n",
       "      <th>Founded</th>\n",
       "      <th>Type</th>\n",
       "      <th>Enrollment</th>\n",
       "      <th>link</th>\n",
       "    </tr>\n",
       "  </thead>\n",
       "  <tbody>\n",
       "    <tr>\n",
       "      <th>0</th>\n",
       "      <td>Albania</td>\n",
       "      <td>University of Tirana</td>\n",
       "      <td>1957</td>\n",
       "      <td>Public</td>\n",
       "      <td>35000</td>\n",
       "      <td>https://en.wikipedia.org/wiki/Albania</td>\n",
       "    </tr>\n",
       "    <tr>\n",
       "      <th>1</th>\n",
       "      <td>Algeria</td>\n",
       "      <td>Constantine University</td>\n",
       "      <td>1978</td>\n",
       "      <td>Public</td>\n",
       "      <td>85000</td>\n",
       "      <td>https://en.wikipedia.org/wiki/Algeria</td>\n",
       "    </tr>\n",
       "    <tr>\n",
       "      <th>2</th>\n",
       "      <td>Angola</td>\n",
       "      <td>Agostinho Neto University</td>\n",
       "      <td>1962</td>\n",
       "      <td>Public</td>\n",
       "      <td>29827</td>\n",
       "      <td>https://en.wikipedia.org/wiki/Angola</td>\n",
       "    </tr>\n",
       "    <tr>\n",
       "      <th>3</th>\n",
       "      <td>Argentina</td>\n",
       "      <td>University of Buenos Aires</td>\n",
       "      <td>1821</td>\n",
       "      <td>Public</td>\n",
       "      <td>311175</td>\n",
       "      <td>https://en.wikipedia.org/wiki/Argentina</td>\n",
       "    </tr>\n",
       "    <tr>\n",
       "      <th>4</th>\n",
       "      <td>Australia</td>\n",
       "      <td>Monash University</td>\n",
       "      <td>1958</td>\n",
       "      <td>Public</td>\n",
       "      <td>73807</td>\n",
       "      <td>https://en.wikipedia.org/wiki/Australia</td>\n",
       "    </tr>\n",
       "  </tbody>\n",
       "</table>\n",
       "</div>"
      ],
      "text/plain": [
       "     Country                  University  Founded    Type  Enrollment  \\\n",
       "0    Albania        University of Tirana     1957  Public       35000   \n",
       "1    Algeria      Constantine University     1978  Public       85000   \n",
       "2     Angola   Agostinho Neto University     1962  Public       29827   \n",
       "3  Argentina  University of Buenos Aires     1821  Public      311175   \n",
       "4  Australia           Monash University     1958  Public       73807   \n",
       "\n",
       "                                      link  \n",
       "0    https://en.wikipedia.org/wiki/Albania  \n",
       "1    https://en.wikipedia.org/wiki/Algeria  \n",
       "2     https://en.wikipedia.org/wiki/Angola  \n",
       "3  https://en.wikipedia.org/wiki/Argentina  \n",
       "4  https://en.wikipedia.org/wiki/Australia  "
      ]
     },
     "execution_count": 140,
     "metadata": {},
     "output_type": "execute_result"
    }
   ],
   "source": [
    "df.head()"
   ]
  },
  {
   "cell_type": "code",
   "execution_count": 141,
   "metadata": {},
   "outputs": [],
   "source": [
    "conn = psycopg2.connect(\n",
    "    host = 'localhost',\n",
    "    port = 5435,\n",
    "    password = 'amdaripassword',\n",
    "    user = 'amdariuser',\n",
    "    database = 'amdaridb'\n",
    ")"
   ]
  },
  {
   "cell_type": "code",
   "execution_count": 142,
   "metadata": {},
   "outputs": [],
   "source": [
    "cursor = conn.cursor()"
   ]
  },
  {
   "cell_type": "code",
   "execution_count": 143,
   "metadata": {},
   "outputs": [
    {
     "data": {
      "text/plain": [
       "'CREATE TABLE university (\\n    id SERIAL PRIMARY KEY,\\n    country VARCHAR(255) NOT NULL,\\n    name VARCHAR(255) NOT NULL,\\n    founded INT NOT NULL,\\n    type VARCHAR(255) NOT NULL,\\n    enrollment BIGINT NOT NULL,\\n    link VARCHAR(255) NOT NULL,\\n\\n    CONSTRAINT unique_combination UNIQUE (country, name)\\n);\\n\\n'"
      ]
     },
     "execution_count": 143,
     "metadata": {},
     "output_type": "execute_result"
    }
   ],
   "source": [
    "create_query_file = open('../sql/postgres_create_table.sql')\n",
    "create_query = create_query_file.read()\n",
    "create_query"
   ]
  },
  {
   "cell_type": "code",
   "execution_count": null,
   "metadata": {},
   "outputs": [],
   "source": [
    "cursor.execute(create_query)"
   ]
  },
  {
   "cell_type": "code",
   "execution_count": null,
   "metadata": {},
   "outputs": [],
   "source": [
    "conn.commit()"
   ]
  },
  {
   "cell_type": "code",
   "execution_count": 145,
   "metadata": {},
   "outputs": [],
   "source": [
    "conn.rollback()"
   ]
  },
  {
   "cell_type": "code",
   "execution_count": null,
   "metadata": {},
   "outputs": [],
   "source": [
    "engine = create_engine(\"postgresql+psycopg2://\",creator=lambda: conn)"
   ]
  },
  {
   "cell_type": "code",
   "execution_count": null,
   "metadata": {},
   "outputs": [],
   "source": [
    "pd.read_sql(\"SELECT * FROM university;\", con=engine)"
   ]
  },
  {
   "cell_type": "code",
   "execution_count": null,
   "metadata": {},
   "outputs": [
    {
     "data": {
      "text/plain": [
       "'INSERT INTO university (country,name, founded, type, enrollment, link)\\nVALUES (%s, %s, %s, %s, %s, %s)\\nON CONFLICT (country, name) DO UPDATE\\nSET\\n    founded = EXCLUDED.founded,\\n    type = EXCLUDED.type,\\n    enrollment = EXCLUDED.enrollment,\\n    link = EXCLUDED.link;\\n'"
      ]
     },
     "execution_count": 136,
     "metadata": {},
     "output_type": "execute_result"
    }
   ],
   "source": [
    "\n",
    "data = list(df.itertuples(name=None, index=None))\n",
    "merge_query_file = open('../sql/postgres_upsert.sql')\n",
    "merge_query= merge_query_file.read()\n",
    "merge_query\n",
    "\n"
   ]
  },
  {
   "cell_type": "code",
   "execution_count": null,
   "metadata": {},
   "outputs": [],
   "source": []
  },
  {
   "cell_type": "code",
   "execution_count": 150,
   "metadata": {},
   "outputs": [],
   "source": [
    "cursor.executemany(merge_query, data)"
   ]
  },
  {
   "cell_type": "code",
   "execution_count": 151,
   "metadata": {},
   "outputs": [],
   "source": [
    "conn.commit()"
   ]
  },
  {
   "cell_type": "code",
   "execution_count": 152,
   "metadata": {},
   "outputs": [
    {
     "data": {
      "text/html": [
       "<div>\n",
       "<style scoped>\n",
       "    .dataframe tbody tr th:only-of-type {\n",
       "        vertical-align: middle;\n",
       "    }\n",
       "\n",
       "    .dataframe tbody tr th {\n",
       "        vertical-align: top;\n",
       "    }\n",
       "\n",
       "    .dataframe thead th {\n",
       "        text-align: right;\n",
       "    }\n",
       "</style>\n",
       "<table border=\"1\" class=\"dataframe\">\n",
       "  <thead>\n",
       "    <tr style=\"text-align: right;\">\n",
       "      <th></th>\n",
       "      <th>id</th>\n",
       "      <th>country</th>\n",
       "      <th>name</th>\n",
       "      <th>founded</th>\n",
       "      <th>type</th>\n",
       "      <th>enrollment</th>\n",
       "      <th>link</th>\n",
       "    </tr>\n",
       "  </thead>\n",
       "  <tbody>\n",
       "    <tr>\n",
       "      <th>0</th>\n",
       "      <td>70</td>\n",
       "      <td>Albania</td>\n",
       "      <td>University of Tirana</td>\n",
       "      <td>1957</td>\n",
       "      <td>Public</td>\n",
       "      <td>35000</td>\n",
       "      <td>https://en.wikipedia.org/wiki/Albania</td>\n",
       "    </tr>\n",
       "    <tr>\n",
       "      <th>1</th>\n",
       "      <td>71</td>\n",
       "      <td>Algeria</td>\n",
       "      <td>Constantine University</td>\n",
       "      <td>1978</td>\n",
       "      <td>Public</td>\n",
       "      <td>85000</td>\n",
       "      <td>https://en.wikipedia.org/wiki/Algeria</td>\n",
       "    </tr>\n",
       "    <tr>\n",
       "      <th>2</th>\n",
       "      <td>72</td>\n",
       "      <td>Angola</td>\n",
       "      <td>Agostinho Neto University</td>\n",
       "      <td>1962</td>\n",
       "      <td>Public</td>\n",
       "      <td>29827</td>\n",
       "      <td>https://en.wikipedia.org/wiki/Angola</td>\n",
       "    </tr>\n",
       "    <tr>\n",
       "      <th>3</th>\n",
       "      <td>73</td>\n",
       "      <td>Argentina</td>\n",
       "      <td>University of Buenos Aires</td>\n",
       "      <td>1821</td>\n",
       "      <td>Public</td>\n",
       "      <td>311175</td>\n",
       "      <td>https://en.wikipedia.org/wiki/Argentina</td>\n",
       "    </tr>\n",
       "    <tr>\n",
       "      <th>4</th>\n",
       "      <td>74</td>\n",
       "      <td>Australia</td>\n",
       "      <td>Monash University</td>\n",
       "      <td>1958</td>\n",
       "      <td>Public</td>\n",
       "      <td>73807</td>\n",
       "      <td>https://en.wikipedia.org/wiki/Australia</td>\n",
       "    </tr>\n",
       "    <tr>\n",
       "      <th>...</th>\n",
       "      <td>...</td>\n",
       "      <td>...</td>\n",
       "      <td>...</td>\n",
       "      <td>...</td>\n",
       "      <td>...</td>\n",
       "      <td>...</td>\n",
       "      <td>...</td>\n",
       "    </tr>\n",
       "    <tr>\n",
       "      <th>64</th>\n",
       "      <td>134</td>\n",
       "      <td>Turkey</td>\n",
       "      <td>Anadolu University</td>\n",
       "      <td>1958</td>\n",
       "      <td>Public</td>\n",
       "      <td>1969733</td>\n",
       "      <td>https://en.wikipedia.org/wiki/Turkey</td>\n",
       "    </tr>\n",
       "    <tr>\n",
       "      <th>65</th>\n",
       "      <td>135</td>\n",
       "      <td>United Kingdom</td>\n",
       "      <td>Open University</td>\n",
       "      <td>1969</td>\n",
       "      <td>Public</td>\n",
       "      <td>253075</td>\n",
       "      <td>https://en.wikipedia.org/wiki/United_Kingdom</td>\n",
       "    </tr>\n",
       "    <tr>\n",
       "      <th>66</th>\n",
       "      <td>136</td>\n",
       "      <td>United States</td>\n",
       "      <td>Texas A&amp;M University</td>\n",
       "      <td>1876</td>\n",
       "      <td>Public</td>\n",
       "      <td>73284</td>\n",
       "      <td>https://en.wikipedia.org/wiki/United_States</td>\n",
       "    </tr>\n",
       "    <tr>\n",
       "      <th>67</th>\n",
       "      <td>137</td>\n",
       "      <td>Uruguay</td>\n",
       "      <td>University of the Republic</td>\n",
       "      <td>1949</td>\n",
       "      <td>Public</td>\n",
       "      <td>144108</td>\n",
       "      <td>https://en.wikipedia.org/wiki/Uruguay</td>\n",
       "    </tr>\n",
       "    <tr>\n",
       "      <th>68</th>\n",
       "      <td>138</td>\n",
       "      <td>Venezuela</td>\n",
       "      <td>Universidad Central de Venezuela</td>\n",
       "      <td>1721</td>\n",
       "      <td>Public</td>\n",
       "      <td>41059</td>\n",
       "      <td>https://en.wikipedia.org/wiki/Venezuela</td>\n",
       "    </tr>\n",
       "  </tbody>\n",
       "</table>\n",
       "<p>69 rows × 7 columns</p>\n",
       "</div>"
      ],
      "text/plain": [
       "     id         country                              name  founded    type  \\\n",
       "0    70         Albania              University of Tirana     1957  Public   \n",
       "1    71         Algeria            Constantine University     1978  Public   \n",
       "2    72          Angola         Agostinho Neto University     1962  Public   \n",
       "3    73       Argentina        University of Buenos Aires     1821  Public   \n",
       "4    74       Australia                 Monash University     1958  Public   \n",
       "..  ...             ...                               ...      ...     ...   \n",
       "64  134          Turkey                Anadolu University     1958  Public   \n",
       "65  135  United Kingdom                   Open University     1969  Public   \n",
       "66  136   United States              Texas A&M University     1876  Public   \n",
       "67  137         Uruguay        University of the Republic     1949  Public   \n",
       "68  138       Venezuela  Universidad Central de Venezuela     1721  Public   \n",
       "\n",
       "    enrollment                                          link  \n",
       "0        35000         https://en.wikipedia.org/wiki/Albania  \n",
       "1        85000         https://en.wikipedia.org/wiki/Algeria  \n",
       "2        29827          https://en.wikipedia.org/wiki/Angola  \n",
       "3       311175       https://en.wikipedia.org/wiki/Argentina  \n",
       "4        73807       https://en.wikipedia.org/wiki/Australia  \n",
       "..         ...                                           ...  \n",
       "64     1969733          https://en.wikipedia.org/wiki/Turkey  \n",
       "65      253075  https://en.wikipedia.org/wiki/United_Kingdom  \n",
       "66       73284   https://en.wikipedia.org/wiki/United_States  \n",
       "67      144108         https://en.wikipedia.org/wiki/Uruguay  \n",
       "68       41059       https://en.wikipedia.org/wiki/Venezuela  \n",
       "\n",
       "[69 rows x 7 columns]"
      ]
     },
     "execution_count": 152,
     "metadata": {},
     "output_type": "execute_result"
    }
   ],
   "source": [
    "pd.read_sql('SELECT * FROM university;', con=engine)"
   ]
  },
  {
   "cell_type": "code",
   "execution_count": null,
   "metadata": {},
   "outputs": [],
   "source": []
  }
 ],
 "metadata": {
  "kernelspec": {
   "display_name": "Python 3",
   "language": "python",
   "name": "python3"
  },
  "language_info": {
   "codemirror_mode": {
    "name": "ipython",
    "version": 3
   },
   "file_extension": ".py",
   "mimetype": "text/x-python",
   "name": "python",
   "nbconvert_exporter": "python",
   "pygments_lexer": "ipython3",
   "version": "3.10.11"
  }
 },
 "nbformat": 4,
 "nbformat_minor": 2
}
